{
  "nbformat": 4,
  "nbformat_minor": 0,
  "metadata": {
    "colab": {
      "name": "Copy of SC_Lab1_B041.ipynb",
      "provenance": [],
      "collapsed_sections": [],
      "authorship_tag": "ABX9TyPSuQQSg/oFKRWhO579+Zl/",
      "include_colab_link": true
    },
    "kernelspec": {
      "name": "python3",
      "display_name": "Python 3"
    },
    "language_info": {
      "name": "python"
    }
  },
  "cells": [
    {
      "cell_type": "markdown",
      "metadata": {
        "id": "view-in-github",
        "colab_type": "text"
      },
      "source": [
        "<a href=\"https://colab.research.google.com/github/Aryan61101/test-repository/blob/master/Copy_of_SC_Lab1_B041.ipynb\" target=\"_parent\"><img src=\"https://colab.research.google.com/assets/colab-badge.svg\" alt=\"Open In Colab\"/></a>"
      ]
    },
    {
      "cell_type": "code",
      "execution_count": null,
      "metadata": {
        "colab": {
          "base_uri": "https://localhost:8080/"
        },
        "id": "zXSLkA3HsuMV",
        "outputId": "dd6b1f1a-9183-4f43-e86d-bdd87a889f96"
      },
      "outputs": [
        {
          "output_type": "stream",
          "name": "stdout",
          "text": [
            "Sat Dec 11 08:57:46 2021\n"
          ]
        }
      ],
      "source": [
        "import time \n",
        "print(time.ctime())"
      ]
    },
    {
      "cell_type": "markdown",
      "source": [
        "Sample text box"
      ],
      "metadata": {
        "id": "u9ngmGQ9tzxo"
      }
    }
  ]
}